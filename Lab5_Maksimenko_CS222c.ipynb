{
 "cells": [
  {
   "cell_type": "markdown",
   "id": "f2a957b1",
   "metadata": {},
   "source": [
    "# Лабораторна робота №5\n",
    "# Тема: Робота з бібліотекою OpenCV\n",
    "# Мета: Отримання навичок роботи з бібліотекою OpenCV для обробки та аналізу цифрових зображень\n",
    "\n",
    "<div style=\"background-color: white;\">\n",
    "Виконав: студент групи КН - 222c Максименко Валентин Михайлович \n",
    "</div>\n",
    "<div style=\"background-color: white;\">\n",
    "Перевірив: асистент кафедри Герман Олександрович Зверцев\n",
    "</div>\n",
    "\n",
    "1. Визначити номер варіанта за формулою:\n",
    "N = ord(X) % 5 + 1,\n",
    "де X – перша велика літера вашого імені в латинській транскрипції."
   ]
  },
  {
   "cell_type": "code",
   "execution_count": 22,
   "id": "e6d06eac",
   "metadata": {},
   "outputs": [
    {
     "data": {
      "text/plain": [
       "N                              2\n",
       "file name        emma-watson.jpg\n",
       "image size               400x400\n",
       "glasses color               blue\n",
       "line width                     3\n",
       "Name: 1, dtype: object"
      ]
     },
     "execution_count": 22,
     "metadata": {},
     "output_type": "execute_result"
    }
   ],
   "source": [
    "import pandas as pd\n",
    "\n",
    "N = ord(\"V\") % 5 + 1 # Name: Valentine\n",
    "\n",
    "file_path = r'C:\\рст\\учеба\\долги\\Pyton\\lab5\\lab6.xlsx'\n",
    "df = pd.read_excel(file_path)\n",
    "\n",
    "variant_data = df.iloc[N - 1]\n",
    "variant_data"
   ]
  },
  {
   "cell_type": "code",
   "execution_count": 24,
   "id": "d7f9af42",
   "metadata": {},
   "outputs": [
    {
     "name": "stdout",
     "output_type": "stream",
     "text": [
      "Requirement already satisfied: opencv-python in c:\\users\\valen\\anaconda3\\lib\\site-packages (4.10.0.84)\n",
      "Requirement already satisfied: numpy>=1.21.2 in c:\\users\\valen\\anaconda3\\lib\\site-packages (from opencv-python) (1.26.4)\n",
      "Note: you may need to restart the kernel to use updated packages.\n"
     ]
    }
   ],
   "source": [
    "pip install opencv-python\n"
   ]
  },
  {
   "cell_type": "code",
   "execution_count": 133,
   "id": "e5da71b4",
   "metadata": {},
   "outputs": [],
   "source": [
    "import cv2 as cv\n",
    "import numpy as np\n",
    "from PIL import Image, ImageDraw\n",
    "import matplotlib.pyplot as plt\n",
    "\n",
    "def add_glasses_to_face(input_image_path, output_image_path, glasses_color = 'blue', line_width = 3):\n",
    "    \n",
    "    image = cv.imread(input_image_path)\n",
    "    gray_image = cv.cvtColor(image, cv.COLOR_BGR2GRAY)\n",
    "\n",
    "    face_cascade = cv.CascadeClassifier('haarcascade_frontalface_default.xml')\n",
    "    eye_cascade = cv.CascadeClassifier('haarcascade_eye.xml')\n",
    "    \n",
    "    detected_faces = face_cascade.detectMultiScale(gray_image)\n",
    "\n",
    "    for (x, y, w, h) in detected_faces:\n",
    "\n",
    "        roi_gray = gray_image[y:y+h, x:x+w]\n",
    "        detected_eyes = eye_cascade.detectMultiScale(roi_gray, 1.1, 3, 0, [60, 60], [100, 100])\n",
    "\n",
    "        if len(detected_eyes) == 2:\n",
    "\n",
    "            pil_image = Image.fromarray(cv.cvtColor(image, cv.COLOR_BGR2RGB))\n",
    "            draw = ImageDraw.Draw(pil_image)\n",
    "            \n",
    "            detected_eyes = sorted(detected_eyes, key=lambda e: e[0])\n",
    "            \n",
    "            eye1_center = (x + detected_eyes[0][0] + detected_eyes[0][2] // 2,\n",
    "                           y + detected_eyes[0][1] + detected_eyes[0][3] // 2)\n",
    "            eye2_center = (x + detected_eyes[1][0] + detected_eyes[1][2] // 2,\n",
    "                           y + detected_eyes[1][1] + detected_eyes[1][3] // 2)\n",
    "\n",
    "            eye_size = max(detected_eyes[0][2], detected_eyes[0][3],\n",
    "                           detected_eyes[1][2], detected_eyes[1][3])\n",
    "            \n",
    "            distance_between_eyes = eye2_center[0] - eye1_center[0]\n",
    "            glasses_width = distance_between_eyes + eye_size\n",
    "            glasses_height = eye_size\n",
    "            \n",
    "            left_glass_rect = [eye1_center[0] - glasses_width // 4,\n",
    "                               eye1_center[1] - glasses_height // 2,\n",
    "                               eye1_center[0] + glasses_width // 4,\n",
    "                               eye1_center[1] + glasses_height // 2]\n",
    "            \n",
    "            draw.ellipse(left_glass_rect, outline=glasses_color, width=line_width)\n",
    "            \n",
    "            right_glass_rect = [eye2_center[0] - glasses_width // 4,\n",
    "                                eye2_center[1] - glasses_height // 2,\n",
    "                                eye2_center[0] + glasses_width // 4,\n",
    "                                eye2_center[1] + glasses_height // 2]\n",
    "            \n",
    "            draw.ellipse(right_glass_rect, outline=glasses_color, width=line_width)\n",
    "            \n",
    "            bridge_start = (eye1_center[0] + glasses_width // 4,\n",
    "                            eye1_center[1])\n",
    "            bridge_end = (eye2_center[0] - glasses_width // 4,\n",
    "                          eye2_center[1])\n",
    "            \n",
    "            draw.line([bridge_start, bridge_end], fill = glasses_color, width = line_width)\n",
    "            \n",
    "            temple_length = 20  \n",
    "            temple_left_end = (left_glass_rect[0] - temple_length, left_glass_rect[1] + glasses_height // 2)\n",
    "            temple_right_end = (right_glass_rect[2] + temple_length, right_glass_rect[3] - glasses_height // 2)\n",
    "            \n",
    "            draw.line((left_glass_rect[0],\n",
    "                       left_glass_rect[1] + glasses_height // 2) + temple_left_end, fill=glasses_color, width=line_width)\n",
    "            \n",
    "            draw.line((right_glass_rect[2],\n",
    "                       right_glass_rect[3] - glasses_height // 2) + temple_right_end, fill=glasses_color, width=line_width)\n",
    "\n",
    "            cv_image = cv.cvtColor(np.array(pil_image), cv.COLOR_RGB2BGR)\n",
    "\n",
    "            face_center_x, face_center_y = x + w // 2, y + h // 2\n",
    "            crop_x1 = max(face_center_x - 150, 0)\n",
    "            crop_y1 = max(face_center_y - 150, 0)\n",
    "            crop_x2 = min(face_center_x + 150, cv_image.shape[1])\n",
    "            crop_y2 = min(face_center_y + 150, cv_image.shape[0])\n",
    "\n",
    "            cropped_image = cv_image[crop_y1:crop_y2, crop_x1:crop_x2]\n",
    "            resized_image = cv.resize(cropped_image, (400, 400), interpolation=cv.INTER_AREA)\n",
    "            cv.imwrite(output_image_path, resized_image)\n",
    "\n",
    "\n",
    "\n",
    "\n",
    "output_path = r\"C:\\images\\output_image.jpg\"\n",
    "image_path = r\"C:\\images\\emma-watson.jpg\"\n",
    "add_glasses_to_face(image_path, output_path)"
   ]
  },
  {
   "cell_type": "markdown",
   "id": "0e2c4bfc",
   "metadata": {},
   "source": [
    "**Висновок до Лабораторної Роботи №5**\n",
    "\n",
    "Під час виконання завдання з роботи з бібліотекою OpenCV ми успішно освоїли ключові концепції та методи обробки цифрових зображень. Використовуючи функціонал OpenCV, ми навчилися ефективно завантажувати, зберігати та обробляти зображення. Набуті знання та навички в цій області виявляться корисними у майбутній роботі, де обробка зображень використовується для вирішення різноманітних завдань, від розпізнавання об'єктів до аналізу медичних зображень та багато іншого."
   ]
  }
 ],
 "metadata": {
  "kernelspec": {
   "display_name": "Python 3 (ipykernel)",
   "language": "python",
   "name": "python3"
  },
  "language_info": {
   "codemirror_mode": {
    "name": "ipython",
    "version": 3
   },
   "file_extension": ".py",
   "mimetype": "text/x-python",
   "name": "python",
   "nbconvert_exporter": "python",
   "pygments_lexer": "ipython3",
   "version": "3.12.4"
  }
 },
 "nbformat": 4,
 "nbformat_minor": 5
}
